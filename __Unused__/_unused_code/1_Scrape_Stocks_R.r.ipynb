{
 "cells": [
  {
   "cell_type": "markdown",
   "metadata": {},
   "source": [
    "## Pipeline Level 1: Data Acquisition ##\n",
    "This code uses R to download current stock values.\n",
    "\n",
    "The stocks are written to CSV files which are read in Level 2 Operations.\n"
   ]
  },
  {
   "cell_type": "code",
   "execution_count": 44,
   "metadata": {},
   "outputs": [
    {
     "data": {
      "text/html": [
       "<ol class=list-inline>\n",
       "\t<li>'clov'</li>\n",
       "\t<li>'sofi'</li>\n",
       "\t<li>'wkhs'</li>\n",
       "\t<li>'amd'</li>\n",
       "\t<li>'gme'</li>\n",
       "\t<li>'x'</li>\n",
       "\t<li>'amc'</li>\n",
       "\t<li>'clne'</li>\n",
       "\t<li>'nio'</li>\n",
       "\t<li>'mu'</li>\n",
       "\t<li>'spce'</li>\n",
       "\t<li>'bb'</li>\n",
       "</ol>\n"
      ],
      "text/latex": [
       "\\begin{enumerate*}\n",
       "\\item 'clov'\n",
       "\\item 'sofi'\n",
       "\\item 'wkhs'\n",
       "\\item 'amd'\n",
       "\\item 'gme'\n",
       "\\item 'x'\n",
       "\\item 'amc'\n",
       "\\item 'clne'\n",
       "\\item 'nio'\n",
       "\\item 'mu'\n",
       "\\item 'spce'\n",
       "\\item 'bb'\n",
       "\\end{enumerate*}\n"
      ],
      "text/markdown": [
       "1. 'clov'\n",
       "2. 'sofi'\n",
       "3. 'wkhs'\n",
       "4. 'amd'\n",
       "5. 'gme'\n",
       "6. 'x'\n",
       "7. 'amc'\n",
       "8. 'clne'\n",
       "9. 'nio'\n",
       "10. 'mu'\n",
       "11. 'spce'\n",
       "12. 'bb'\n",
       "\n",
       "\n"
      ],
      "text/plain": [
       " [1] \"clov\" \"sofi\" \"wkhs\" \"amd\"  \"gme\"  \"x\"    \"amc\"  \"clne\" \"nio\"  \"mu\"  \n",
       "[11] \"spce\" \"bb\"  "
      ]
     },
     "metadata": {},
     "output_type": "display_data"
    },
    {
     "name": "stdout",
     "output_type": "stream",
     "text": [
      "[1] \"Downloading: clov\"\n",
      "[1] \"Writing File: ./stocks/clov_daily.csv.zip\"\n",
      "[1] \"Downloading: sofi\"\n",
      "[1] \"Writing File: ./stocks/sofi_daily.csv.zip\"\n",
      "[1] \"Downloading: wkhs\"\n",
      "[1] \"Writing File: ./stocks/wkhs_daily.csv.zip\"\n",
      "[1] \"Downloading: amd\"\n",
      "[1] \"Writing File: ./stocks/amd_daily.csv.zip\"\n",
      "[1] \"Downloading: gme\"\n",
      "[1] \"Writing File: ./stocks/gme_daily.csv.zip\"\n",
      "[1] \"Downloading: x\"\n",
      "[1] \"Writing File: ./stocks/x_daily.csv.zip\"\n",
      "[1] \"Downloading: amc\"\n",
      "[1] \"Writing File: ./stocks/amc_daily.csv.zip\"\n",
      "[1] \"Downloading: clne\"\n",
      "[1] \"Writing File: ./stocks/clne_daily.csv.zip\"\n",
      "[1] \"Downloading: nio\"\n",
      "[1] \"Writing File: ./stocks/nio_daily.csv.zip\"\n",
      "[1] \"Downloading: mu\"\n",
      "[1] \"Writing File: ./stocks/mu_daily.csv.zip\"\n",
      "[1] \"Downloading: spce\"\n",
      "[1] \"Writing File: ./stocks/spce_daily.csv.zip\"\n",
      "[1] \"Downloading: bb\"\n",
      "[1] \"Writing File: ./stocks/bb_daily.csv.zip\"\n",
      "[1] \"Done...\"\n"
     ]
    }
   ],
   "source": [
    "#install.packages(c(\"httr\",\"jsonlite\"))\n",
    "#install.packages(\"rjson\")\n",
    "library(httr)\n",
    "library(jsonlite)\n",
    "library(rjson)\n",
    "\n",
    "#//*** Load Secret API Key from Github Ignire Folder\n",
    "apikey <- fromJSON(file=\"./ignore_folder/alpha_vantage_api.json\")\n",
    "\n",
    "apikey <- apikey$apikey\n",
    "\n",
    "#//*** Load JSON encoded Tickers to download\n",
    "symbols <- fromJSON(file=\"./data/stock_tickers.json\")\n",
    "\n",
    "symbols <- symbols$symbols\n",
    "\n",
    "symbols\n",
    "\n",
    "for (symbol in symbols){\n",
    "    \n",
    "    url='https://www.alphavantage.co/query?'\n",
    "    url=paste(url,\"function=TIME_SERIES_DAILY\",sep=\"\")\n",
    "    url=paste(url,\"&symbol=\",symbol,sep=\"\")\n",
    "    url=paste(url,\"&outputsize=full\",sep=\"\")\n",
    "    url=paste(url,\"&datatype=csv\",sep=\"\")\n",
    "    url=paste(url,\"&apikey=\",apikey,sep=\"\")\n",
    "            \n",
    "        \n",
    "        \n",
    "    print(paste(\"Downloading:\",symbol))\n",
    "    #//*** Download CSV\n",
    "    r <- GET(url)\n",
    " \n",
    "    #//*** Build Output filename\n",
    "    output_filename=paste(\"./stocks/\",symbol,\"_daily.csv.zip\",sep=\"\")\n",
    "    \n",
    "    print(paste(\"Writing File:\",output_filename))\n",
    "    #//*** Write CSV to file\n",
    "    writeBin(content(r, \"raw\"), output_filename)\n",
    "    \n",
    "    #//*** Wait 15 Seconds, Max API call is 5/minute\n",
    "    Sys.sleep(15)\n",
    "}\n",
    "print(\"Done...\")\n"
   ]
  },
  {
   "cell_type": "code",
   "execution_count": 40,
   "metadata": {},
   "outputs": [
    {
     "name": "stdout",
     "output_type": "stream",
     "text": [
      "[1] \"Downloading clov\"\n"
     ]
    }
   ],
   "source": []
  }
 ],
 "metadata": {
  "kernelspec": {
   "display_name": "R",
   "language": "R",
   "name": "ir"
  },
  "language_info": {
   "codemirror_mode": "r",
   "file_extension": ".r",
   "mimetype": "text/x-r-source",
   "name": "R",
   "pygments_lexer": "r",
   "version": "3.6.1"
  }
 },
 "nbformat": 4,
 "nbformat_minor": 5
}
