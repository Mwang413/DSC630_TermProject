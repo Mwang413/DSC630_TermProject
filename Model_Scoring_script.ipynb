{
 "cells": [
  {
   "cell_type": "code",
   "execution_count": null,
   "id": "1ebe7b0e-afc1-4ca3-840a-2ab3c1216991",
   "metadata": {},
   "outputs": [],
   "source": [
    "over_predicts = []\n",
    "for i in range(len(y_test)):\n",
    "    if result[i] <= y_test:\n",
    "        over_predicts.append(results[i])\n",
    "\n",
    "sum(over_predicts) / len(over_predicts)"
   ]
  }
 ],
 "metadata": {
  "kernelspec": {
   "display_name": "Python 3",
   "language": "python",
   "name": "python3"
  },
  "language_info": {
   "codemirror_mode": {
    "name": "ipython",
    "version": 3
   },
   "file_extension": ".py",
   "mimetype": "text/x-python",
   "name": "python",
   "nbconvert_exporter": "python",
   "pygments_lexer": "ipython3",
   "version": "3.8.8"
  }
 },
 "nbformat": 4,
 "nbformat_minor": 5
}
