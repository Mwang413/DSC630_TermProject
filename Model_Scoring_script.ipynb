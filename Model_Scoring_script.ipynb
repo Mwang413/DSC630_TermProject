{
 "cells": [
  {
   "cell_type": "code",
   "execution_count": 1,
   "id": "1ebe7b0e-afc1-4ca3-840a-2ab3c1216991",
   "metadata": {},
   "outputs": [],
   "source": [
    "def get_mean_error(predictions, actuals):\n",
    "    mean_error = (sum(predictions) - sum(actuals))/len(actuals)\n",
    "    return mean_error"
   ]
  }
 ],
 "metadata": {
  "kernelspec": {
   "display_name": "Python 3",
   "language": "python",
   "name": "python3"
  },
  "language_info": {
   "codemirror_mode": {
    "name": "ipython",
    "version": 3
   },
   "file_extension": ".py",
   "mimetype": "text/x-python",
   "name": "python",
   "nbconvert_exporter": "python",
   "pygments_lexer": "ipython3",
   "version": "3.8.8"
  }
 },
 "nbformat": 4,
 "nbformat_minor": 5
}
