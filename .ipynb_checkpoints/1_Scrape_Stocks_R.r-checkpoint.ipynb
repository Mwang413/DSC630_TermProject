{
 "cells": [
  {
   "cell_type": "code",
   "execution_count": 31,
   "id": "e2ebbf2e",
   "metadata": {},
   "outputs": [
    {
     "data": {
      "text/html": [
       "<ol class=list-inline>\n",
       "\t<li>'clov'</li>\n",
       "\t<li>'sofi'</li>\n",
       "\t<li>'wkhs'</li>\n",
       "\t<li>'amd'</li>\n",
       "\t<li>'gme'</li>\n",
       "\t<li>'x'</li>\n",
       "\t<li>'amc'</li>\n",
       "\t<li>'clne'</li>\n",
       "\t<li>'nio'</li>\n",
       "\t<li>'mu'</li>\n",
       "\t<li>'spce'</li>\n",
       "\t<li>'bb'</li>\n",
       "</ol>\n"
      ],
      "text/latex": [
       "\\begin{enumerate*}\n",
       "\\item 'clov'\n",
       "\\item 'sofi'\n",
       "\\item 'wkhs'\n",
       "\\item 'amd'\n",
       "\\item 'gme'\n",
       "\\item 'x'\n",
       "\\item 'amc'\n",
       "\\item 'clne'\n",
       "\\item 'nio'\n",
       "\\item 'mu'\n",
       "\\item 'spce'\n",
       "\\item 'bb'\n",
       "\\end{enumerate*}\n"
      ],
      "text/markdown": [
       "1. 'clov'\n",
       "2. 'sofi'\n",
       "3. 'wkhs'\n",
       "4. 'amd'\n",
       "5. 'gme'\n",
       "6. 'x'\n",
       "7. 'amc'\n",
       "8. 'clne'\n",
       "9. 'nio'\n",
       "10. 'mu'\n",
       "11. 'spce'\n",
       "12. 'bb'\n",
       "\n",
       "\n"
      ],
      "text/plain": [
       " [1] \"clov\" \"sofi\" \"wkhs\" \"amd\"  \"gme\"  \"x\"    \"amc\"  \"clne\" \"nio\"  \"mu\"  \n",
       "[11] \"spce\" \"bb\"  "
      ]
     },
     "metadata": {},
     "output_type": "display_data"
    },
    {
     "name": "stdout",
     "output_type": "stream",
     "text": [
      "[1] \"https://www.alphavantage.co/query?function=daily&symbol=clov&outputsize=full&apikey=S4DI5C1JRKCLIM74\"\n",
      "[1] \"https://www.alphavantage.co/query?function=daily&symbol=sofi&outputsize=full&apikey=S4DI5C1JRKCLIM74\"\n",
      "[1] \"https://www.alphavantage.co/query?function=daily&symbol=wkhs&outputsize=full&apikey=S4DI5C1JRKCLIM74\"\n",
      "[1] \"https://www.alphavantage.co/query?function=daily&symbol=amd&outputsize=full&apikey=S4DI5C1JRKCLIM74\"\n",
      "[1] \"https://www.alphavantage.co/query?function=daily&symbol=gme&outputsize=full&apikey=S4DI5C1JRKCLIM74\"\n",
      "[1] \"https://www.alphavantage.co/query?function=daily&symbol=x&outputsize=full&apikey=S4DI5C1JRKCLIM74\"\n",
      "[1] \"https://www.alphavantage.co/query?function=daily&symbol=amc&outputsize=full&apikey=S4DI5C1JRKCLIM74\"\n",
      "[1] \"https://www.alphavantage.co/query?function=daily&symbol=clne&outputsize=full&apikey=S4DI5C1JRKCLIM74\"\n",
      "[1] \"https://www.alphavantage.co/query?function=daily&symbol=nio&outputsize=full&apikey=S4DI5C1JRKCLIM74\"\n",
      "[1] \"https://www.alphavantage.co/query?function=daily&symbol=mu&outputsize=full&apikey=S4DI5C1JRKCLIM74\"\n",
      "[1] \"https://www.alphavantage.co/query?function=daily&symbol=spce&outputsize=full&apikey=S4DI5C1JRKCLIM74\"\n",
      "[1] \"https://www.alphavantage.co/query?function=daily&symbol=bb&outputsize=full&apikey=S4DI5C1JRKCLIM74\"\n"
     ]
    }
   ],
   "source": [
    "#install.packages(c(\"httr\",\"jsonlite\"))\n",
    "library(httr)\n",
    "library(jsonlite)\n",
    "#install.packages(\"rjson\")\n",
    "library(rjson)\n",
    "\n",
    "build_url <- function(input_symbol){\n",
    "    \n",
    "}\n",
    "\n",
    "symbol <- \"DOG\"\n",
    "\n",
    "apikey <- fromJSON(file=\"./ignore_folder/alpha_vantage_api.json\")\n",
    "\n",
    "apikey <- apikey$apikey\n",
    "\n",
    "symbols <- fromJSON(file=\"./data/stock_tickers.json\")\n",
    "\n",
    "symbols <- symbols$symbols\n",
    "\n",
    "symbols\n",
    "\n",
    "for (symbol in symbols){\n",
    "    \n",
    "    url='https://www.alphavantage.co/query?'\n",
    "    url=paste(url,\"function=daily\",sep=\"\")\n",
    "    url=paste(url,\"&symbol=\",symbol,sep=\"\")\n",
    "    url=paste(url,\"&outputsize=full\",sep=\"\")\n",
    "    url=paste(url,\"&apikey=\",apikey,sep=\"\")\n",
    "            \n",
    "        \n",
    "        \n",
    "    print(url)\n",
    "}\n"
   ]
  }
 ],
 "metadata": {
  "kernelspec": {
   "display_name": "R",
   "language": "R",
   "name": "ir"
  },
  "language_info": {
   "codemirror_mode": "r",
   "file_extension": ".r",
   "mimetype": "text/x-r-source",
   "name": "R",
   "pygments_lexer": "r",
   "version": "3.6.1"
  }
 },
 "nbformat": 4,
 "nbformat_minor": 5
}
