{
 "cells": [
  {
   "cell_type": "code",
   "execution_count": 7,
   "metadata": {},
   "outputs": [
    {
     "data": {
      "text/html": [
       "<style>.container { width:100% !important; }</style>"
      ],
      "text/plain": [
       "<IPython.core.display.HTML object>"
      ]
     },
     "metadata": {},
     "output_type": "display_data"
    }
   ],
   "source": [
    "import os\n",
    "import sys\n",
    "# //*** Imports and Load Data\n",
    "import matplotlib.pyplot as plt\n",
    "import numpy as np\n",
    "import pandas as pd\n",
    "import hashlib\n",
    "import platform\n",
    "import time\n",
    "\n",
    "#//*** Use the whole window in the IPYNB editor\n",
    "from IPython.core.display import display, HTML\n",
    "display(HTML(\"<style>.container { width:100% !important; }</style>\"))\n",
    "\n",
    "#//*** Maximize columns and rows displayed by pandas\n",
    "pd.set_option('display.max_rows', 100)\n",
    "pd.set_option('display.max_columns', None)\n",
    "\n",
    "\n",
    "#subreddits = [\"wallstreetbets\", \"stocks\", \"wallstreetbetsOGs\", \"spacs\", \"investing\", \"pennystocks\", \"stockmarket\", \"options\", \"robinhoodpennystocks\", \"wallstreetbetsnew\", \"smallstreetbets\"]\n",
    "#subreddits = [\"stocks\", \"wallstreetbetsOGs\", \"spacs\", \"investing\", \"pennystocks\", \"stockmarket\", \"options\", \"robinhoodpennystocks\", \"wallstreetbetsnew\", \"smallstreetbets\"]"
   ]
  },
  {
   "cell_type": "code",
   "execution_count": 17,
   "metadata": {},
   "outputs": [],
   "source": [
    "import os\n",
    "path =f'./data/ag'\n",
    "list_of_files = []\n",
    "\n",
    "ag_df = pd.DataFrame()\n",
    "\n",
    "\n",
    "for root, dirs, files in os.walk(path):\n",
    "    for file in files:\n",
    "        list_of_files.append(os.path.join(root,file).replace(\"\\\\\",\"/\"))\n",
    "for name in list_of_files:\n",
    "    ag_df = pd.concat([ag_df,pd.read_csv(name)])"
   ]
  },
  {
   "cell_type": "code",
   "execution_count": 18,
   "metadata": {},
   "outputs": [],
   "source": [
    "ag_df = ag_df.sort_values('date')"
   ]
  },
  {
   "cell_type": "code",
   "execution_count": 19,
   "metadata": {},
   "outputs": [],
   "source": [
    "output_filename = \"./data/processed_reddit_basic_v3_tfidf.csv.zip\"\n",
    "\n",
    "#//*** Write File to disk\n",
    "ag_df.to_csv(output_filename,compression=\"zip\",index=False) "
   ]
  },
  {
   "cell_type": "code",
   "execution_count": 20,
   "metadata": {},
   "outputs": [
    {
     "name": "stdout",
     "output_type": "stream",
     "text": [
      "           date  total_posts  \\\n",
      "0    2012-04-11           17   \n",
      "1    2012-04-12            1   \n",
      "2    2012-04-13            2   \n",
      "3    2012-04-16           13   \n",
      "4    2012-05-02           44   \n",
      "..          ...          ...   \n",
      "745  2020-07-29         8229   \n",
      "746  2020-07-30         8726   \n",
      "747  2020-07-31         7676   \n",
      "748  2020-08-01         6411   \n",
      "749  2020-08-02         6124   \n",
      "\n",
      "                                                 tfidf  score  awards  \\\n",
      "0      (0, 449455)\\t0.19297662695869383\\n  (0, 2429...     28     0.0   \n",
      "1      (0, 449455)\\t0.19297662695869383\\n  (0, 2429...      1     0.0   \n",
      "2      (0, 449455)\\t0.19297662695869383\\n  (0, 2429...      2     0.0   \n",
      "3      (0, 449455)\\t0.19297662695869383\\n  (0, 2429...     20     0.0   \n",
      "4      (0, 449455)\\t0.19297662695869383\\n  (0, 2429...    117     0.0   \n",
      "..                                                 ...    ...     ...   \n",
      "745    (0, 449455)\\t0.19297662695869383\\n  (0, 2429...  15684     9.0   \n",
      "746    (0, 449455)\\t0.19297662695869383\\n  (0, 2429...  16956    10.0   \n",
      "747    (0, 449455)\\t0.19297662695869383\\n  (0, 2429...  14308    10.0   \n",
      "748    (0, 449455)\\t0.19297662695869383\\n  (0, 2429...   7760    13.0   \n",
      "749    (0, 449455)\\t0.19297662695869383\\n  (0, 2429...   9082     3.0   \n",
      "\n",
      "     authors  threads  clov  sofi  wkhs  amd  gme   x  amc  clne  nio  mu  \\\n",
      "0         12        1     0     0     0    0    0   0    0     0    0   0   \n",
      "1          1        1     0     0     0    0    0   0    0     0    0   0   \n",
      "2          2        1     0     0     0    0    0   0    0     0    0   0   \n",
      "3          8        1     0     0     0    0    0   0    0     0    0   0   \n",
      "4         11        6     0     0     0    0    0   0    0     0    0   0   \n",
      "..       ...      ...   ...   ...   ...  ...  ...  ..  ...   ...  ...  ..   \n",
      "745     4327     1215     0     0     4  131    0  28    5     0    9   4   \n",
      "746     4691     1238     0     0     4   72    0  25    3     0   14   2   \n",
      "747     4234     1084     0     0     3   42    0  33    0     0    9   1   \n",
      "748     3403      887     0     1     1   37    0  28    1     0    8   1   \n",
      "749     3270      794     0     0     3   98    0  19    1     0    3   1   \n",
      "\n",
      "     spce  bb  \n",
      "0       0   0  \n",
      "1       0   0  \n",
      "2       0   0  \n",
      "3       0   0  \n",
      "4       0   0  \n",
      "..    ...  ..  \n",
      "745     8   1  \n",
      "746     4   1  \n",
      "747    11   2  \n",
      "748     7   2  \n",
      "749     6   1  \n",
      "\n",
      "[750 rows x 19 columns]\n"
     ]
    }
   ],
   "source": [
    "df = pd.read_csv(output_filename)\n",
    "print(df)"
   ]
  }
 ],
 "metadata": {
  "kernelspec": {
   "display_name": "Python 3",
   "language": "python",
   "name": "python3"
  },
  "language_info": {
   "codemirror_mode": {
    "name": "ipython",
    "version": 3
   },
   "file_extension": ".py",
   "mimetype": "text/x-python",
   "name": "python",
   "nbconvert_exporter": "python",
   "pygments_lexer": "ipython3",
   "version": "3.8.3"
  }
 },
 "nbformat": 4,
 "nbformat_minor": 4
}
