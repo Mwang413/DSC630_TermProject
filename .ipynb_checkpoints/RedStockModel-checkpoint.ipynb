{
 "cells": [
  {
   "cell_type": "code",
   "execution_count": 1,
   "metadata": {},
   "outputs": [],
   "source": [
    "import json"
   ]
  },
  {
   "cell_type": "code",
   "execution_count": 22,
   "metadata": {},
   "outputs": [
    {
     "name": "stdout",
     "output_type": "stream",
     "text": [
      "{\"symbols\": [\"CLOV\", \"SOFI\", \"WKHS\", \"AMD\", \"GME\", \"X\", \"AMC\", \"CLNE\", \"NIO\", \"MU\", \"SPCE\", \"BB\"]}\n",
      "['clov', 'sofi', 'wkhs', 'amd', 'gme', 'x', 'amc', 'clne', 'nio', 'mu', 'spce', 'bb']\n"
     ]
    }
   ],
   "source": [
    "#//*** Stock Ticker Symbols to track\n",
    "stocks = { 'symbols' : [\"CLOV\",\"SOFI\",\"WKHS\",\"AMD\",\"GME\",\"X\",\"AMC\",\"CLNE\",\"NIO\",\"MU\",\"SPCE\",\"BB\"] }\n",
    "print(json.dumps(stocks))\n",
    "\n",
    "#//*** Convert symbols to lower case\n",
    "stocks['symbols'] = [x.lower() for x in stocks['symbols']]\n",
    "\n",
    "f = open(\".\\\\data\\\\stock_tickers.json\", \"w\")\n",
    "f.write(json.dumps(stocks))\n",
    "f.close()\n",
    "\n",
    "\n",
    "f = open(\".\\\\data\\\\stock_tickers.json\", \"r\")\n",
    "symbols = json.loads(f.read())['symbols']\n",
    "f.close()\n",
    "\n",
    "print(starburns)\n"
   ]
  }
 ],
 "metadata": {
  "kernelspec": {
   "display_name": "Python 3",
   "language": "python",
   "name": "python3"
  },
  "language_info": {
   "codemirror_mode": {
    "name": "ipython",
    "version": 3
   },
   "file_extension": ".py",
   "mimetype": "text/x-python",
   "name": "python",
   "nbconvert_exporter": "python",
   "pygments_lexer": "ipython3",
   "version": "3.8.3"
  }
 },
 "nbformat": 4,
 "nbformat_minor": 4
}
