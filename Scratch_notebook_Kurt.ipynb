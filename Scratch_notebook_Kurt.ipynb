{
 "cells": [
  {
   "cell_type": "code",
   "execution_count": 7,
   "metadata": {},
   "outputs": [
    {
     "data": {
      "text/html": [
       "<style>.container { width:100% !important; }</style>"
      ],
      "text/plain": [
       "<IPython.core.display.HTML object>"
      ]
     },
     "metadata": {},
     "output_type": "display_data"
    }
   ],
   "source": [
    "import os\n",
    "import sys\n",
    "# //*** Imports and Load Data\n",
    "import matplotlib.pyplot as plt\n",
    "import numpy as np\n",
    "import pandas as pd\n",
    "import hashlib\n",
    "import platform\n",
    "import time\n",
    "\n",
    "#//*** Use the whole window in the IPYNB editor\n",
    "from IPython.core.display import display, HTML\n",
    "display(HTML(\"<style>.container { width:100% !important; }</style>\"))\n",
    "\n",
    "#//*** Maximize columns and rows displayed by pandas\n",
    "pd.set_option('display.max_rows', 100)\n",
    "pd.set_option('display.max_columns', None)\n",
    "\n",
    "\n",
    "#subreddits = [\"wallstreetbets\", \"stocks\", \"wallstreetbetsOGs\", \"spacs\", \"investing\", \"pennystocks\", \"stockmarket\", \"options\", \"robinhoodpennystocks\", \"wallstreetbetsnew\", \"smallstreetbets\"]\n",
    "#subreddits = [\"stocks\", \"wallstreetbetsOGs\", \"spacs\", \"investing\", \"pennystocks\", \"stockmarket\", \"options\", \"robinhoodpennystocks\", \"wallstreetbetsnew\", \"smallstreetbets\"]"
   ]
  },
  {
   "cell_type": "code",
   "execution_count": 9,
   "metadata": {},
   "outputs": [],
   "source": [
    "import os\n",
    "path =f'./data/ag'\n",
    "list_of_files = []\n",
    "\n",
    "ag_df = pd.DataFrame()\n",
    "\n",
    "\n",
    "for root, dirs, files in os.walk(path):\n",
    "    for file in files:\n",
    "        list_of_files.append(os.path.join(root,file).replace(\"\\\\\",\"/\"))\n",
    "for name in list_of_files:\n",
    "    ag_df = pd.concat([ag_df,pd.read_csv(name)])"
   ]
  },
  {
   "cell_type": "code",
   "execution_count": 12,
   "metadata": {},
   "outputs": [],
   "source": [
    "ag_df = ag_df.sort_values('date')"
   ]
  },
  {
   "cell_type": "code",
   "execution_count": 13,
   "metadata": {},
   "outputs": [],
   "source": [
    "output_filename = \"./data/processed_reddit_basic_v3_tfidf.csv.zip\"\n",
    "\n",
    "#//*** Write File to disk\n",
    "ag_df.to_csv(output_filename,compression=\"zip\",index=False) "
   ]
  },
  {
   "cell_type": "code",
   "execution_count": 14,
   "metadata": {},
   "outputs": [
    {
     "name": "stdout",
     "output_type": "stream",
     "text": [
      "           date  total_posts  \\\n",
      "0    2012-04-11           17   \n",
      "1    2012-04-12            1   \n",
      "2    2012-04-13            2   \n",
      "3    2012-04-16           13   \n",
      "4    2012-05-02           44   \n",
      "..          ...          ...   \n",
      "721  2020-07-05         6647   \n",
      "722  2020-07-06         7598   \n",
      "723  2020-07-07         9124   \n",
      "724  2020-07-08         8191   \n",
      "725  2020-07-09         9304   \n",
      "\n",
      "                                                 tfidf  score  awards  \\\n",
      "0      (0, 449455)\\t0.19297662695869383\\n  (0, 2429...     28     0.0   \n",
      "1      (0, 449455)\\t0.19297662695869383\\n  (0, 2429...      1     0.0   \n",
      "2      (0, 449455)\\t0.19297662695869383\\n  (0, 2429...      2     0.0   \n",
      "3      (0, 449455)\\t0.19297662695869383\\n  (0, 2429...     20     0.0   \n",
      "4      (0, 449455)\\t0.19297662695869383\\n  (0, 2429...    117     0.0   \n",
      "..                                                 ...    ...     ...   \n",
      "721    (0, 449455)\\t0.19297662695869383\\n  (0, 2429...   6647     0.0   \n",
      "722    (0, 449455)\\t0.19297662695869383\\n  (0, 2429...  11029     9.0   \n",
      "723    (0, 449455)\\t0.19297662695869383\\n  (0, 2429...  12793     5.0   \n",
      "724    (0, 449455)\\t0.19297662695869383\\n  (0, 2429...  11893     3.0   \n",
      "725    (0, 449455)\\t0.19297662695869383\\n  (0, 2429...  12870     4.0   \n",
      "\n",
      "     authors  threads  clov  sofi  wkhs  amd  gme   x  amc  clne  nio  mu  \\\n",
      "0         12        1     0     0     0    0    0   0    0     0    0   0   \n",
      "1          1        1     0     0     0    0    0   0    0     0    0   0   \n",
      "2          2        1     0     0     0    0    0   0    0     0    0   0   \n",
      "3          8        1     0     0     0    0    0   0    0     0    0   0   \n",
      "4         11        6     0     0     0    0    0   0    0     0    0   0   \n",
      "..       ...      ...   ...   ...   ...  ...  ...  ..  ...   ...  ...  ..   \n",
      "721     3485      813     0     0    11   15    0  15    0     0   30   0   \n",
      "722     4136     1056     0     1    19   22    0  39    0     0   72   1   \n",
      "723     4766     1202     0     0    12   39    0  40    1     0  107   1   \n",
      "724     4395     1098     0     9     9  120    0  25    3     1  113   1   \n",
      "725     4788     1097     0    10     5   89    0  32    0     3   75   3   \n",
      "\n",
      "     spce  bb  \n",
      "0       0   0  \n",
      "1       0   0  \n",
      "2       0   0  \n",
      "3       0   0  \n",
      "4       0   0  \n",
      "..    ...  ..  \n",
      "721     9   0  \n",
      "722    17   2  \n",
      "723    13   2  \n",
      "724     2   3  \n",
      "725    16   3  \n",
      "\n",
      "[726 rows x 19 columns]\n"
     ]
    }
   ],
   "source": [
    "df = pd.read_csv(output_filename)\n",
    "print(df)"
   ]
  }
 ],
 "metadata": {
  "kernelspec": {
   "display_name": "Python 3",
   "language": "python",
   "name": "python3"
  },
  "language_info": {
   "codemirror_mode": {
    "name": "ipython",
    "version": 3
   },
   "file_extension": ".py",
   "mimetype": "text/x-python",
   "name": "python",
   "nbconvert_exporter": "python",
   "pygments_lexer": "ipython3",
   "version": "3.8.3"
  }
 },
 "nbformat": 4,
 "nbformat_minor": 4
}
