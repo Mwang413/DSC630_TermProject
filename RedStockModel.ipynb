{
 "cells": [
  {
   "cell_type": "markdown",
   "id": "5e061831-8062-4ef1-a04b-359d39c6a093",
   "metadata": {},
   "source": [
    "Assumption: This is not a time series problem. The dates are irrelevant. To be explored more"
   ]
  },
  {
   "cell_type": "code",
   "execution_count": 78,
   "id": "3feb85f1-8368-4777-93bb-97feb440665c",
   "metadata": {},
   "outputs": [],
   "source": [
    "from RedStockData import merged\n",
    "import numpy as np\n",
    "import pandas as pd"
   ]
  },
  {
   "cell_type": "code",
   "execution_count": 95,
   "id": "461f12ba-4fbd-4bbc-9e72-7f15bcff3967",
   "metadata": {},
   "outputs": [],
   "source": [
    "# import warnings\n",
    "# from pandas.core.common import SettingWithCopyWarning\n",
    "# warnings.simplefilter(action=\"ignore\", category=SettingWithCopyWarning)\n",
    "\n",
    "merged.Day_Avg = 0\n",
    "price_cols = merged[merged.columns[-6:-2]]\n",
    "x=0\n",
    "for i in range(len(price_cols)):\n",
    "    x+=1\n",
    "    merged.Day_Avg[i] = format(price_cols.values[i].mean(), '.5f')"
   ]
  },
  {
   "cell_type": "markdown",
   "id": "a22f1343-8a49-4f82-929d-1d614c954f45",
   "metadata": {},
   "source": [
    "Get X and y"
   ]
  },
  {
   "cell_type": "code",
   "execution_count": 103,
   "id": "67eeaeaf-36dd-40a3-a344-344231713e06",
   "metadata": {},
   "outputs": [
    {
     "data": {
      "text/html": [
       "<div>\n",
       "<style scoped>\n",
       "    .dataframe tbody tr th:only-of-type {\n",
       "        vertical-align: middle;\n",
       "    }\n",
       "\n",
       "    .dataframe tbody tr th {\n",
       "        vertical-align: top;\n",
       "    }\n",
       "\n",
       "    .dataframe thead th {\n",
       "        text-align: right;\n",
       "    }\n",
       "</style>\n",
       "<table border=\"1\" class=\"dataframe\">\n",
       "  <thead>\n",
       "    <tr style=\"text-align: right;\">\n",
       "      <th></th>\n",
       "      <th>date</th>\n",
       "      <th>total_posts</th>\n",
       "      <th>score</th>\n",
       "      <th>awards</th>\n",
       "      <th>authors</th>\n",
       "      <th>threads</th>\n",
       "      <th>clov</th>\n",
       "      <th>sofi</th>\n",
       "      <th>wkhs</th>\n",
       "      <th>amd</th>\n",
       "      <th>gme</th>\n",
       "      <th>x</th>\n",
       "      <th>amc</th>\n",
       "      <th>clne</th>\n",
       "      <th>nio</th>\n",
       "      <th>mu</th>\n",
       "      <th>spce</th>\n",
       "      <th>bb</th>\n",
       "      <th>symbol</th>\n",
       "      <th>open</th>\n",
       "      <th>high</th>\n",
       "      <th>low</th>\n",
       "      <th>close</th>\n",
       "      <th>volume</th>\n",
       "      <th>Day_Avg</th>\n",
       "    </tr>\n",
       "  </thead>\n",
       "  <tbody>\n",
       "    <tr>\n",
       "      <th>0</th>\n",
       "      <td>2014-04-10</td>\n",
       "      <td>19</td>\n",
       "      <td>15</td>\n",
       "      <td>0.0</td>\n",
       "      <td>10</td>\n",
       "      <td>5</td>\n",
       "      <td>0</td>\n",
       "      <td>0</td>\n",
       "      <td>0</td>\n",
       "      <td>0</td>\n",
       "      <td>0</td>\n",
       "      <td>0</td>\n",
       "      <td>0</td>\n",
       "      <td>0</td>\n",
       "      <td>0</td>\n",
       "      <td>0</td>\n",
       "      <td>0</td>\n",
       "      <td>0</td>\n",
       "      <td>gme</td>\n",
       "      <td>23.59</td>\n",
       "      <td>23.640</td>\n",
       "      <td>22.88</td>\n",
       "      <td>22.88</td>\n",
       "      <td>118000</td>\n",
       "      <td>23.24750</td>\n",
       "    </tr>\n",
       "    <tr>\n",
       "      <th>1</th>\n",
       "      <td>2014-04-11</td>\n",
       "      <td>65</td>\n",
       "      <td>173</td>\n",
       "      <td>0.0</td>\n",
       "      <td>35</td>\n",
       "      <td>11</td>\n",
       "      <td>0</td>\n",
       "      <td>0</td>\n",
       "      <td>0</td>\n",
       "      <td>0</td>\n",
       "      <td>0</td>\n",
       "      <td>0</td>\n",
       "      <td>0</td>\n",
       "      <td>0</td>\n",
       "      <td>0</td>\n",
       "      <td>0</td>\n",
       "      <td>0</td>\n",
       "      <td>0</td>\n",
       "      <td>gme</td>\n",
       "      <td>22.73</td>\n",
       "      <td>23.710</td>\n",
       "      <td>21.91</td>\n",
       "      <td>23.60</td>\n",
       "      <td>581500</td>\n",
       "      <td>22.98750</td>\n",
       "    </tr>\n",
       "    <tr>\n",
       "      <th>2</th>\n",
       "      <td>2014-07-30</td>\n",
       "      <td>20</td>\n",
       "      <td>41</td>\n",
       "      <td>0.0</td>\n",
       "      <td>13</td>\n",
       "      <td>7</td>\n",
       "      <td>0</td>\n",
       "      <td>0</td>\n",
       "      <td>0</td>\n",
       "      <td>0</td>\n",
       "      <td>0</td>\n",
       "      <td>1</td>\n",
       "      <td>0</td>\n",
       "      <td>1</td>\n",
       "      <td>0</td>\n",
       "      <td>0</td>\n",
       "      <td>0</td>\n",
       "      <td>0</td>\n",
       "      <td>gme</td>\n",
       "      <td>22.65</td>\n",
       "      <td>22.759</td>\n",
       "      <td>22.30</td>\n",
       "      <td>22.51</td>\n",
       "      <td>153600</td>\n",
       "      <td>22.55475</td>\n",
       "    </tr>\n",
       "  </tbody>\n",
       "</table>\n",
       "</div>"
      ],
      "text/plain": [
       "         date  total_posts  score  awards  authors  threads  clov  sofi  wkhs  \\\n",
       "0  2014-04-10           19     15     0.0       10        5     0     0     0   \n",
       "1  2014-04-11           65    173     0.0       35       11     0     0     0   \n",
       "2  2014-07-30           20     41     0.0       13        7     0     0     0   \n",
       "\n",
       "   amd  gme  x  amc  clne  nio  mu  spce  bb symbol   open    high    low  \\\n",
       "0    0    0  0    0     0    0   0     0   0    gme  23.59  23.640  22.88   \n",
       "1    0    0  0    0     0    0   0     0   0    gme  22.73  23.710  21.91   \n",
       "2    0    0  1    0     1    0   0     0   0    gme  22.65  22.759  22.30   \n",
       "\n",
       "   close  volume   Day_Avg  \n",
       "0  22.88  118000  23.24750  \n",
       "1  23.60  581500  22.98750  \n",
       "2  22.51  153600  22.55475  "
      ]
     },
     "execution_count": 103,
     "metadata": {},
     "output_type": "execute_result"
    }
   ],
   "source": [
    "merged.head(3)"
   ]
  },
  {
   "cell_type": "code",
   "execution_count": 126,
   "id": "e3158edb-a0ab-4f0c-930b-725e62e1ef42",
   "metadata": {},
   "outputs": [],
   "source": [
    "X = merged.iloc[:, 1:18] # Excluding Date, from \"total_posts\" to before \"symbol\"\n",
    "\n",
    "y = merged.Day_Avg.values"
   ]
  },
  {
   "cell_type": "markdown",
   "id": "5ae665eb-46bf-423e-a207-51be48c50ee5",
   "metadata": {},
   "source": [
    "PCA Model - This is my first step of using Machine learning. There are many ways to go about this, but I'm just trying this way as a first attempt."
   ]
  },
  {
   "cell_type": "code",
   "execution_count": 132,
   "id": "2498c9ac-4efc-44d7-b725-2c5178fd65f7",
   "metadata": {},
   "outputs": [
    {
     "data": {
      "text/html": [
       "<div>\n",
       "<style scoped>\n",
       "    .dataframe tbody tr th:only-of-type {\n",
       "        vertical-align: middle;\n",
       "    }\n",
       "\n",
       "    .dataframe tbody tr th {\n",
       "        vertical-align: top;\n",
       "    }\n",
       "\n",
       "    .dataframe thead th {\n",
       "        text-align: right;\n",
       "    }\n",
       "</style>\n",
       "<table border=\"1\" class=\"dataframe\">\n",
       "  <thead>\n",
       "    <tr style=\"text-align: right;\">\n",
       "      <th></th>\n",
       "      <th>PC1</th>\n",
       "      <th>PC2</th>\n",
       "      <th>PC3</th>\n",
       "      <th>PC4</th>\n",
       "      <th>y</th>\n",
       "    </tr>\n",
       "  </thead>\n",
       "  <tbody>\n",
       "    <tr>\n",
       "      <th>0</th>\n",
       "      <td>-3708.332098</td>\n",
       "      <td>-656.835331</td>\n",
       "      <td>4.534147</td>\n",
       "      <td>28.547481</td>\n",
       "      <td>23.24750</td>\n",
       "    </tr>\n",
       "    <tr>\n",
       "      <th>1</th>\n",
       "      <td>-3545.097969</td>\n",
       "      <td>-624.609211</td>\n",
       "      <td>-2.054066</td>\n",
       "      <td>26.412853</td>\n",
       "      <td>22.98750</td>\n",
       "    </tr>\n",
       "    <tr>\n",
       "      <th>2</th>\n",
       "      <td>-3682.177695</td>\n",
       "      <td>-657.478926</td>\n",
       "      <td>6.362985</td>\n",
       "      <td>27.174459</td>\n",
       "      <td>22.55475</td>\n",
       "    </tr>\n",
       "    <tr>\n",
       "      <th>3</th>\n",
       "      <td>-3673.561021</td>\n",
       "      <td>-653.076974</td>\n",
       "      <td>5.846454</td>\n",
       "      <td>25.698310</td>\n",
       "      <td>22.80750</td>\n",
       "    </tr>\n",
       "    <tr>\n",
       "      <th>4</th>\n",
       "      <td>-3707.852812</td>\n",
       "      <td>-661.018097</td>\n",
       "      <td>4.146595</td>\n",
       "      <td>28.028418</td>\n",
       "      <td>22.83500</td>\n",
       "    </tr>\n",
       "  </tbody>\n",
       "</table>\n",
       "</div>"
      ],
      "text/plain": [
       "           PC1         PC2       PC3        PC4         y\n",
       "0 -3708.332098 -656.835331  4.534147  28.547481  23.24750\n",
       "1 -3545.097969 -624.609211 -2.054066  26.412853  22.98750\n",
       "2 -3682.177695 -657.478926  6.362985  27.174459  22.55475\n",
       "3 -3673.561021 -653.076974  5.846454  25.698310  22.80750\n",
       "4 -3707.852812 -661.018097  4.146595  28.028418  22.83500"
      ]
     },
     "execution_count": 132,
     "metadata": {},
     "output_type": "execute_result"
    }
   ],
   "source": [
    "from sklearn.decomposition import PCA\n",
    "\n",
    "pca = PCA(n_components=4)\n",
    "X_pca = pca.fit_transform(X)\n",
    "PCA_df = pd.DataFrame(data = X_pca, columns = ['PC1', 'PC2', 'PC3', 'PC4'])\n",
    "PCA_df[\"y\"] = y\n",
    "PCA_df.head()"
   ]
  },
  {
   "cell_type": "code",
   "execution_count": 189,
   "id": "6594451c-5307-4156-ae50-1eac6d2b0ff3",
   "metadata": {},
   "outputs": [],
   "source": [
    "from sklearn.model_selection import train_test_split\n",
    "X_train, X_test, y_train, y_test = train_test_split(X_pca, y, test_size=0.3, random_state=2)"
   ]
  },
  {
   "cell_type": "code",
   "execution_count": 190,
   "id": "b803c2c5-f449-4611-a7c7-41f05312cb61",
   "metadata": {},
   "outputs": [],
   "source": [
    "from sklearn.linear_model import LinearRegression\n",
    "model = LinearRegression()"
   ]
  },
  {
   "cell_type": "code",
   "execution_count": 191,
   "id": "fb31f756-9de0-408b-a7b5-3b6bf2255173",
   "metadata": {},
   "outputs": [],
   "source": [
    "model = model.fit(X_train, y_train)"
   ]
  },
  {
   "cell_type": "code",
   "execution_count": 195,
   "id": "661de0dc-db45-4957-bb6a-185b8f8b9d49",
   "metadata": {},
   "outputs": [
    {
     "name": "stdout",
     "output_type": "stream",
     "text": [
      "Coefficients: [ 8.75062056e-06 -6.50330522e-03  5.69990251e-03  5.88201953e-02] \n",
      "Intercepts: 11.190754044426415 \n",
      "Model R^2-Score: 0.15407796082107883\n"
     ]
    }
   ],
   "source": [
    "# Results\n",
    "print(\"Coefficients:\", model.coef_,\n",
    "      \"\\nIntercepts:\", model.intercept_,\n",
    "      \"\\nModel R^2-Score:\", model.score(X_test, y_test))"
   ]
  },
  {
   "cell_type": "markdown",
   "id": "bc7daeb3-b76c-4706-953d-92804853df54",
   "metadata": {},
   "source": [
    "Discussion point:\n",
    "1. Should next step be to set off the date of posts and the date of stock price by one? Thoughts?"
   ]
  },
  {
   "cell_type": "markdown",
   "id": "69c840cc-cbb0-49eb-8a96-23bd94412ab7",
   "metadata": {},
   "source": [
    "I didn't really \"test\" this model because I don't plan on keeping it, just for a first test."
   ]
  }
 ],
 "metadata": {
  "kernelspec": {
   "display_name": "Python 3",
   "language": "python",
   "name": "python3"
  },
  "language_info": {
   "codemirror_mode": {
    "name": "ipython",
    "version": 3
   },
   "file_extension": ".py",
   "mimetype": "text/x-python",
   "name": "python",
   "nbconvert_exporter": "python",
   "pygments_lexer": "ipython3",
   "version": "3.8.5"
  }
 },
 "nbformat": 4,
 "nbformat_minor": 5
}
