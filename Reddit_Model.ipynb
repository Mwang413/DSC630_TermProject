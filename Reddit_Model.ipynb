{
 "cells": [
  {
   "cell_type": "markdown",
   "id": "ca7946b2-8147-4dcc-88cf-61a9cf88661f",
   "metadata": {},
   "source": [
    "1. Import Reddit Data\n",
    "2. Import Stock Data\n",
    "3. Merge\n",
    "4. Get vars\n",
    "5. "
   ]
  },
  {
   "cell_type": "code",
   "execution_count": 7,
   "id": "ac4655a5-abe2-4658-9aea-263d11fe468e",
   "metadata": {},
   "outputs": [
    {
     "data": {
      "text/html": [
       "<style>.container { width:100% !important; }</style>"
      ],
      "text/plain": [
       "<IPython.core.display.HTML object>"
      ]
     },
     "metadata": {},
     "output_type": "display_data"
    }
   ],
   "source": [
    "import os\n",
    "import sys\n",
    "# //*** Imports and Load Data\n",
    "import matplotlib.pyplot as plt\n",
    "import numpy as np\n",
    "import pandas as pd\n",
    "\n",
    "#//*** Use the whole window in the IPYNB editor\n",
    "from IPython.core.display import display, HTML\n",
    "display(HTML(\"<style>.container { width:100% !important; }</style>\"))\n",
    "\n",
    "#//*** Maximize columns and rows displayed by pandas\n",
    "pd.set_option('display.max_rows', 100)\n",
    "pd.set_option('display.max_columns', None)"
   ]
  },
  {
   "cell_type": "code",
   "execution_count": 34,
   "id": "3a3582ea-11b6-49b2-baaf-0e939fdd3a49",
   "metadata": {},
   "outputs": [],
   "source": [
    "red = pd.read_csv(\"./data/processed_reddit_basic_v1.csv.zip\", )"
   ]
  },
  {
   "cell_type": "code",
   "execution_count": 36,
   "id": "02044b7b-cbe6-4f60-a391-1f44a85310cc",
   "metadata": {},
   "outputs": [
    {
     "data": {
      "text/plain": [
       "(451, 18)"
      ]
     },
     "execution_count": 36,
     "metadata": {},
     "output_type": "execute_result"
    }
   ],
   "source": [
    "# Need more reddit data\n",
    "red.shape"
   ]
  },
  {
   "cell_type": "code",
   "execution_count": 19,
   "id": "d0bc52e9-6368-4157-8679-33758a538357",
   "metadata": {},
   "outputs": [],
   "source": [
    "stocks = pd.read_csv(\"./stocks/gme_daily.csv.zip\", )"
   ]
  },
  {
   "cell_type": "code",
   "execution_count": 30,
   "id": "9c790d3f-60b7-4d3e-8314-9a222457e615",
   "metadata": {},
   "outputs": [],
   "source": [
    "stocks = stocks.sort_values(by=\"date\")"
   ]
  },
  {
   "cell_type": "code",
   "execution_count": 37,
   "id": "eff8670d-912a-45f1-83a9-ebddea0c3ccb",
   "metadata": {},
   "outputs": [],
   "source": [
    "# This method of merging can be improved, \n",
    "# just because comment not on same day as stock doesn't mean stock is not affected.\n",
    "merged = red.merge(stocks)"
   ]
  },
  {
   "cell_type": "code",
   "execution_count": null,
   "id": "e56cb025-b17e-4929-a4b3-f2727597f35a",
   "metadata": {},
   "outputs": [],
   "source": []
  }
 ],
 "metadata": {
  "kernelspec": {
   "display_name": "Python 3",
   "language": "python",
   "name": "python3"
  },
  "language_info": {
   "codemirror_mode": {
    "name": "ipython",
    "version": 3
   },
   "file_extension": ".py",
   "mimetype": "text/x-python",
   "name": "python",
   "nbconvert_exporter": "python",
   "pygments_lexer": "ipython3",
   "version": "3.8.5"
  }
 },
 "nbformat": 4,
 "nbformat_minor": 5
}
